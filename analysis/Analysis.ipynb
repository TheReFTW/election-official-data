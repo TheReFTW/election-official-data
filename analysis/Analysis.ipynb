{
 "cells": [
  {
   "cell_type": "code",
   "execution_count": 1,
   "metadata": {},
   "outputs": [
    {
     "name": "stdout",
     "output_type": "stream",
     "text": [
      "The autoreload extension is already loaded. To reload it, use:\n",
      "  %reload_ext autoreload\n"
     ]
    }
   ],
   "source": [
    "%load_ext autoreload\n",
    "%autoreload 2\n",
    "\n",
    "import re\n",
    "from glob import glob\n",
    "import pandas as pd\n",
    "import numpy as np\n",
    "import matplotlib.pyplot as plt"
   ]
  },
  {
   "cell_type": "code",
   "execution_count": 2,
   "metadata": {},
   "outputs": [],
   "source": [
    "import matplotlib\n",
    "plt.style.use('ggplot')\n",
    "matplotlib.rcParams['figure.figsize'] = 12, 6\n",
    "matplotlib.rcParams['font.size'] = 18  # Probably OS Dependent"
   ]
  },
  {
   "cell_type": "code",
   "execution_count": 3,
   "metadata": {},
   "outputs": [
    {
     "data": {
      "text/html": [
       "<div>\n",
       "<style scoped>\n",
       "    .dataframe tbody tr th:only-of-type {\n",
       "        vertical-align: middle;\n",
       "    }\n",
       "\n",
       "    .dataframe tbody tr th {\n",
       "        vertical-align: top;\n",
       "    }\n",
       "\n",
       "    .dataframe thead th {\n",
       "        text-align: right;\n",
       "    }\n",
       "</style>\n",
       "<table border=\"1\" class=\"dataframe\">\n",
       "  <thead>\n",
       "    <tr style=\"text-align: right;\">\n",
       "      <th></th>\n",
       "      <th>index</th>\n",
       "      <th>locale</th>\n",
       "      <th>official</th>\n",
       "      <th>emails</th>\n",
       "      <th>faxes</th>\n",
       "      <th>phones</th>\n",
       "      <th>county</th>\n",
       "      <th>address</th>\n",
       "      <th>party</th>\n",
       "      <th>state</th>\n",
       "      <th>contacts</th>\n",
       "      <th>physicalAddress</th>\n",
       "      <th>city</th>\n",
       "      <th>url</th>\n",
       "      <th>faxs</th>\n",
       "      <th>urls</th>\n",
       "    </tr>\n",
       "  </thead>\n",
       "  <tbody>\n",
       "    <tr>\n",
       "      <th>1357</th>\n",
       "      <td>1105</td>\n",
       "      <td>Town of Three Lakes:Oneida County</td>\n",
       "      <td>Susan L Harris</td>\n",
       "      <td>[TOWNCLERKSUE@TOWNOFTHREELAKES.COM]</td>\n",
       "      <td>[(715)546-3384]</td>\n",
       "      <td>NaN</td>\n",
       "      <td>Oneida County</td>\n",
       "      <td>Po Box 565, Three Lakes, Wi  54562-0565</td>\n",
       "      <td>NaN</td>\n",
       "      <td>Wisconsin</td>\n",
       "      <td>NaN</td>\n",
       "      <td>6965 W School St, Three Lakes, Wi  54562</td>\n",
       "      <td>Town of Three Lakes</td>\n",
       "      <td>NaN</td>\n",
       "      <td>NaN</td>\n",
       "      <td>NaN</td>\n",
       "    </tr>\n",
       "    <tr>\n",
       "      <th>1681</th>\n",
       "      <td>1429</td>\n",
       "      <td>Village of Radisson:Sawyer County</td>\n",
       "      <td>Gwen Genari</td>\n",
       "      <td>[vclerk@bevcomm.net]</td>\n",
       "      <td>[]</td>\n",
       "      <td>NaN</td>\n",
       "      <td>Sawyer County</td>\n",
       "      <td>Po Box 127, Radisson, Wi 54867-0127</td>\n",
       "      <td>NaN</td>\n",
       "      <td>Wisconsin</td>\n",
       "      <td>NaN</td>\n",
       "      <td>10598 W Railroad St, Radisson, Wi 54867</td>\n",
       "      <td>Village of Radisson</td>\n",
       "      <td>NaN</td>\n",
       "      <td>NaN</td>\n",
       "      <td>NaN</td>\n",
       "    </tr>\n",
       "    <tr>\n",
       "      <th>2068</th>\n",
       "      <td>1816</td>\n",
       "      <td>City of Neenah:Winnebago County</td>\n",
       "      <td>Patty Sturn</td>\n",
       "      <td>[PSTURN@CI.NEENAH.WI.US, scheslock@ci.neenah.w...</td>\n",
       "      <td>[(920)886-6109]</td>\n",
       "      <td>NaN</td>\n",
       "      <td>Winnebago County</td>\n",
       "      <td>Po Box 426, Neenah, Wi 54956-0426</td>\n",
       "      <td>NaN</td>\n",
       "      <td>Wisconsin</td>\n",
       "      <td>NaN</td>\n",
       "      <td>211 Walnut St, Neenah, Wi 54956-3026</td>\n",
       "      <td>City of Neenah</td>\n",
       "      <td>NaN</td>\n",
       "      <td>NaN</td>\n",
       "      <td>NaN</td>\n",
       "    </tr>\n",
       "    <tr>\n",
       "      <th>3444</th>\n",
       "      <td>678</td>\n",
       "      <td>Marion Township:Sanilac County</td>\n",
       "      <td>Deborah G Williamson</td>\n",
       "      <td>[]</td>\n",
       "      <td>[]</td>\n",
       "      <td>[]</td>\n",
       "      <td>Sanilac County</td>\n",
       "      <td>NaN</td>\n",
       "      <td>NaN</td>\n",
       "      <td>Michigan</td>\n",
       "      <td>NaN</td>\n",
       "      <td>NaN</td>\n",
       "      <td>Marion Township</td>\n",
       "      <td>NaN</td>\n",
       "      <td>NaN</td>\n",
       "      <td>NaN</td>\n",
       "    </tr>\n",
       "    <tr>\n",
       "      <th>4361</th>\n",
       "      <td>60</td>\n",
       "      <td>St. Lucie County</td>\n",
       "      <td>Gertrude  Walker</td>\n",
       "      <td>[elections@slcelections.com]</td>\n",
       "      <td>NaN</td>\n",
       "      <td>NaN</td>\n",
       "      <td>St. Lucie County</td>\n",
       "      <td>NaN</td>\n",
       "      <td>NaN</td>\n",
       "      <td>Florida</td>\n",
       "      <td>NaN</td>\n",
       "      <td>NaN</td>\n",
       "      <td>NaN</td>\n",
       "      <td>http://www.slcelections.com</td>\n",
       "      <td>NaN</td>\n",
       "      <td>NaN</td>\n",
       "    </tr>\n",
       "  </tbody>\n",
       "</table>\n",
       "</div>"
      ],
      "text/plain": [
       "      index                             locale              official  \\\n",
       "1357   1105  Town of Three Lakes:Oneida County        Susan L Harris   \n",
       "1681   1429  Village of Radisson:Sawyer County           Gwen Genari   \n",
       "2068   1816    City of Neenah:Winnebago County           Patty Sturn   \n",
       "3444    678     Marion Township:Sanilac County  Deborah G Williamson   \n",
       "4361     60                   St. Lucie County      Gertrude  Walker   \n",
       "\n",
       "                                                 emails            faxes  \\\n",
       "1357                [TOWNCLERKSUE@TOWNOFTHREELAKES.COM]  [(715)546-3384]   \n",
       "1681                               [vclerk@bevcomm.net]               []   \n",
       "2068  [PSTURN@CI.NEENAH.WI.US, scheslock@ci.neenah.w...  [(920)886-6109]   \n",
       "3444                                                 []               []   \n",
       "4361                       [elections@slcelections.com]              NaN   \n",
       "\n",
       "     phones            county                                  address party  \\\n",
       "1357    NaN     Oneida County  Po Box 565, Three Lakes, Wi  54562-0565   NaN   \n",
       "1681    NaN     Sawyer County      Po Box 127, Radisson, Wi 54867-0127   NaN   \n",
       "2068    NaN  Winnebago County        Po Box 426, Neenah, Wi 54956-0426   NaN   \n",
       "3444     []    Sanilac County                                      NaN   NaN   \n",
       "4361    NaN  St. Lucie County                                      NaN   NaN   \n",
       "\n",
       "          state contacts                           physicalAddress  \\\n",
       "1357  Wisconsin      NaN  6965 W School St, Three Lakes, Wi  54562   \n",
       "1681  Wisconsin      NaN   10598 W Railroad St, Radisson, Wi 54867   \n",
       "2068  Wisconsin      NaN      211 Walnut St, Neenah, Wi 54956-3026   \n",
       "3444   Michigan      NaN                                       NaN   \n",
       "4361    Florida      NaN                                       NaN   \n",
       "\n",
       "                     city                          url faxs urls  \n",
       "1357  Town of Three Lakes                          NaN  NaN  NaN  \n",
       "1681  Village of Radisson                          NaN  NaN  NaN  \n",
       "2068       City of Neenah                          NaN  NaN  NaN  \n",
       "3444      Marion Township                          NaN  NaN  NaN  \n",
       "4361                  NaN  http://www.slcelections.com  NaN  NaN  "
      ]
     },
     "execution_count": 3,
     "metadata": {},
     "output_type": "execute_result"
    }
   ],
   "source": [
    "data_files = glob('../public/*.json')\n",
    "\n",
    "dfs = []\n",
    "for file_ in data_files:\n",
    "    df = pd.read_json(file_)\n",
    "    df['state'] = re.search('public/(.+).json', file_).group(1).title()\n",
    "    dfs += [df]\n",
    "    \n",
    "df = pd.concat(dfs).reset_index()\n",
    "df.sample(5, random_state=422)"
   ]
  },
  {
   "cell_type": "code",
   "execution_count": 11,
   "metadata": {
    "scrolled": false
   },
   "outputs": [
    {
     "data": {
      "text/html": [
       "<div>\n",
       "<style scoped>\n",
       "    .dataframe tbody tr th:only-of-type {\n",
       "        vertical-align: middle;\n",
       "    }\n",
       "\n",
       "    .dataframe tbody tr th {\n",
       "        vertical-align: top;\n",
       "    }\n",
       "\n",
       "    .dataframe thead th {\n",
       "        text-align: right;\n",
       "    }\n",
       "</style>\n",
       "<table border=\"1\" class=\"dataframe\">\n",
       "  <thead>\n",
       "    <tr style=\"text-align: right;\">\n",
       "      <th></th>\n",
       "      <th>official</th>\n",
       "      <th>locale</th>\n",
       "      <th>city</th>\n",
       "      <th>county</th>\n",
       "      <th>city_county</th>\n",
       "      <th>email</th>\n",
       "      <th>faxes</th>\n",
       "      <th>fax_email</th>\n",
       "      <th>records</th>\n",
       "    </tr>\n",
       "    <tr>\n",
       "      <th>state</th>\n",
       "      <th></th>\n",
       "      <th></th>\n",
       "      <th></th>\n",
       "      <th></th>\n",
       "      <th></th>\n",
       "      <th></th>\n",
       "      <th></th>\n",
       "      <th></th>\n",
       "      <th></th>\n",
       "    </tr>\n",
       "  </thead>\n",
       "  <tbody>\n",
       "    <tr>\n",
       "      <th>Florida</th>\n",
       "      <td>1.000000</td>\n",
       "      <td>1.0</td>\n",
       "      <td>0.000000</td>\n",
       "      <td>1.000000</td>\n",
       "      <td>1.0</td>\n",
       "      <td>1.000000</td>\n",
       "      <td>0.000000</td>\n",
       "      <td>1.000000</td>\n",
       "      <td>67</td>\n",
       "    </tr>\n",
       "    <tr>\n",
       "      <th>Georgia</th>\n",
       "      <td>1.000000</td>\n",
       "      <td>1.0</td>\n",
       "      <td>0.000000</td>\n",
       "      <td>1.000000</td>\n",
       "      <td>1.0</td>\n",
       "      <td>0.968553</td>\n",
       "      <td>0.987421</td>\n",
       "      <td>0.993711</td>\n",
       "      <td>159</td>\n",
       "    </tr>\n",
       "    <tr>\n",
       "      <th>Maine</th>\n",
       "      <td>1.000000</td>\n",
       "      <td>1.0</td>\n",
       "      <td>1.000000</td>\n",
       "      <td>0.000000</td>\n",
       "      <td>1.0</td>\n",
       "      <td>0.000000</td>\n",
       "      <td>0.942460</td>\n",
       "      <td>0.942460</td>\n",
       "      <td>504</td>\n",
       "    </tr>\n",
       "    <tr>\n",
       "      <th>Maryland</th>\n",
       "      <td>0.916667</td>\n",
       "      <td>1.0</td>\n",
       "      <td>0.000000</td>\n",
       "      <td>1.000000</td>\n",
       "      <td>1.0</td>\n",
       "      <td>1.000000</td>\n",
       "      <td>0.000000</td>\n",
       "      <td>1.000000</td>\n",
       "      <td>24</td>\n",
       "    </tr>\n",
       "    <tr>\n",
       "      <th>Michigan</th>\n",
       "      <td>1.000000</td>\n",
       "      <td>1.0</td>\n",
       "      <td>1.000000</td>\n",
       "      <td>1.000000</td>\n",
       "      <td>1.0</td>\n",
       "      <td>0.981107</td>\n",
       "      <td>0.687296</td>\n",
       "      <td>0.988925</td>\n",
       "      <td>1535</td>\n",
       "    </tr>\n",
       "    <tr>\n",
       "      <th>Minnesota</th>\n",
       "      <td>1.000000</td>\n",
       "      <td>1.0</td>\n",
       "      <td>0.000000</td>\n",
       "      <td>1.000000</td>\n",
       "      <td>1.0</td>\n",
       "      <td>1.000000</td>\n",
       "      <td>1.000000</td>\n",
       "      <td>1.000000</td>\n",
       "      <td>87</td>\n",
       "    </tr>\n",
       "    <tr>\n",
       "      <th>Nebraska</th>\n",
       "      <td>1.000000</td>\n",
       "      <td>1.0</td>\n",
       "      <td>0.000000</td>\n",
       "      <td>1.000000</td>\n",
       "      <td>1.0</td>\n",
       "      <td>1.000000</td>\n",
       "      <td>1.000000</td>\n",
       "      <td>1.000000</td>\n",
       "      <td>93</td>\n",
       "    </tr>\n",
       "    <tr>\n",
       "      <th>Virginia</th>\n",
       "      <td>1.000000</td>\n",
       "      <td>1.0</td>\n",
       "      <td>0.285714</td>\n",
       "      <td>0.714286</td>\n",
       "      <td>1.0</td>\n",
       "      <td>1.000000</td>\n",
       "      <td>1.000000</td>\n",
       "      <td>1.000000</td>\n",
       "      <td>133</td>\n",
       "    </tr>\n",
       "    <tr>\n",
       "      <th>Wisconsin</th>\n",
       "      <td>1.000000</td>\n",
       "      <td>1.0</td>\n",
       "      <td>1.000000</td>\n",
       "      <td>0.969779</td>\n",
       "      <td>1.0</td>\n",
       "      <td>0.861846</td>\n",
       "      <td>0.546681</td>\n",
       "      <td>0.950890</td>\n",
       "      <td>1853</td>\n",
       "    </tr>\n",
       "  </tbody>\n",
       "</table>\n",
       "</div>"
      ],
      "text/plain": [
       "           official  locale      city    county  city_county     email  \\\n",
       "state                                                                    \n",
       "Florida    1.000000     1.0  0.000000  1.000000          1.0  1.000000   \n",
       "Georgia    1.000000     1.0  0.000000  1.000000          1.0  0.968553   \n",
       "Maine      1.000000     1.0  1.000000  0.000000          1.0  0.000000   \n",
       "Maryland   0.916667     1.0  0.000000  1.000000          1.0  1.000000   \n",
       "Michigan   1.000000     1.0  1.000000  1.000000          1.0  0.981107   \n",
       "Minnesota  1.000000     1.0  0.000000  1.000000          1.0  1.000000   \n",
       "Nebraska   1.000000     1.0  0.000000  1.000000          1.0  1.000000   \n",
       "Virginia   1.000000     1.0  0.285714  0.714286          1.0  1.000000   \n",
       "Wisconsin  1.000000     1.0  1.000000  0.969779          1.0  0.861846   \n",
       "\n",
       "              faxes  fax_email  records  \n",
       "state                                    \n",
       "Florida    0.000000   1.000000       67  \n",
       "Georgia    0.987421   0.993711      159  \n",
       "Maine      0.942460   0.942460      504  \n",
       "Maryland   0.000000   1.000000       24  \n",
       "Michigan   0.687296   0.988925     1535  \n",
       "Minnesota  1.000000   1.000000       87  \n",
       "Nebraska   1.000000   1.000000       93  \n",
       "Virginia   1.000000   1.000000      133  \n",
       "Wisconsin  0.546681   0.950890     1853  "
      ]
     },
     "execution_count": 11,
     "metadata": {},
     "output_type": "execute_result"
    }
   ],
   "source": [
    "def non_empty_element(el_list):\n",
    "    if type(el_list) == float:\n",
    "        return False\n",
    "    values = [len(x.strip()) > 0 for x in el_list if x]\n",
    "    if len(values) == 0:\n",
    "        return False\n",
    "    return any(values)\n",
    "\n",
    "def not_null_empty(series):\n",
    "    return (series.notnull() & series.apply(lambda x: x != ''))\n",
    "\n",
    "email = df['emails'].apply(non_empty_element)\n",
    "fax = df['faxes'].apply(non_empty_element)\n",
    "city = not_null_empty(df['city'])\n",
    "county = not_null_empty(df['county'])\n",
    "\n",
    "df_valid = pd.DataFrame({\n",
    "    'official': df['official'].notnull(),\n",
    "    'locale': not_null_empty(df['locale']),\n",
    "    'city': city,\n",
    "    'county': county,\n",
    "    'city_county': (city | county),\n",
    "    'email': email,\n",
    "    'faxes': fax,\n",
    "    'fax_email': (email | fax),\n",
    "})\n",
    "\n",
    "df_stat = df_valid.groupby(df['state']).mean()\n",
    "df_stat['records'] = df.groupby('state').size()\n",
    "df_stat.sort_index()"
   ]
  },
  {
   "cell_type": "markdown",
   "metadata": {},
   "source": [
    "## Michigan"
   ]
  },
  {
   "cell_type": "code",
   "execution_count": 5,
   "metadata": {},
   "outputs": [
    {
     "data": {
      "text/plain": [
       "Grant Township       11\n",
       "Sherman Township      9\n",
       "Lincoln Township      7\n",
       "Lake Township         6\n",
       "Garfield Township     6\n",
       "Name: city, dtype: int64"
      ]
     },
     "execution_count": 5,
     "metadata": {},
     "output_type": "execute_result"
    }
   ],
   "source": [
    "df_mi = df[df['state'] == 'Michigan']\n",
    "df_mi['city'].value_counts().head()"
   ]
  },
  {
   "cell_type": "markdown",
   "metadata": {},
   "source": [
    "However, locales are unique"
   ]
  },
  {
   "cell_type": "code",
   "execution_count": 6,
   "metadata": {},
   "outputs": [
    {
     "data": {
      "text/plain": [
       "Weare Township:Oceana County        1\n",
       "Litchfield City:Hillsdale County    1\n",
       "Colfax Township:Mecosta County      1\n",
       "Coleman City:Midland County         1\n",
       "Evart Township:Osceola County       1\n",
       "Name: locale, dtype: int64"
      ]
     },
     "execution_count": 6,
     "metadata": {},
     "output_type": "execute_result"
    }
   ],
   "source": [
    "assert((df_mi['city'] + ':' + df_mi['county'].fillna('') == df_mi['locale']).all())\n",
    "df_mi['locale'].value_counts().head()"
   ]
  },
  {
   "cell_type": "markdown",
   "metadata": {},
   "source": [
    "## Wisconsin Unique Identifier\n",
    "\n",
    "Wisonsin towns cannot be uniquely identified by city"
   ]
  },
  {
   "cell_type": "code",
   "execution_count": 7,
   "metadata": {},
   "outputs": [
    {
     "data": {
      "text/plain": [
       "Town of Lincoln       12\n",
       "Town of Washington     8\n",
       "Town of Scott          7\n",
       "Town of Union          7\n",
       "Town of Grant          6\n",
       "Name: city, dtype: int64"
      ]
     },
     "execution_count": 7,
     "metadata": {},
     "output_type": "execute_result"
    }
   ],
   "source": [
    "df_wi = df[df['state'] == 'Wisconsin']\n",
    "df_wi['city'].value_counts().head()"
   ]
  },
  {
   "cell_type": "markdown",
   "metadata": {},
   "source": [
    "The locales are unique, but don't properly handle multi-county cities (blank entry)"
   ]
  },
  {
   "cell_type": "code",
   "execution_count": 8,
   "metadata": {},
   "outputs": [
    {
     "data": {
      "text/plain": [
       "Town of Christiana:Vernon County     1\n",
       "Village of Ingram:Rusk County        1\n",
       "City of Sturgeon Bay:Door County     1\n",
       "Town of Evergreen:Washburn County    1\n",
       "Town of Theresa:Dodge County         1\n",
       "Name: locale, dtype: int64"
      ]
     },
     "execution_count": 8,
     "metadata": {},
     "output_type": "execute_result"
    }
   ],
   "source": [
    "assert((df_wi['city'] + ':' + df_wi['county'].fillna('') == df_wi['locale']).all())\n",
    "df_wi['locale'].value_counts().head()"
   ]
  },
  {
   "cell_type": "markdown",
   "metadata": {},
   "source": [
    "So we need to ensure that all multi-county cities are unique across the entire state"
   ]
  },
  {
   "cell_type": "code",
   "execution_count": 9,
   "metadata": {},
   "outputs": [
    {
     "data": {
      "text/plain": [
       "Village of Wrightstown       1\n",
       "Village of De Soto           1\n",
       "Village of Blanchardville    1\n",
       "Village of Mukwonago         1\n",
       "Village of Spring Valley     1\n",
       "Name: city, dtype: int64"
      ]
     },
     "execution_count": 9,
     "metadata": {},
     "output_type": "execute_result"
    }
   ],
   "source": [
    "multi_county_cities = df_wi.loc[df_wi['county'].isnull(), 'city']\n",
    "df_wi.loc[df_wi['city'].isin(multi_county_cities), 'city'].value_counts().head()"
   ]
  }
 ],
 "metadata": {
  "kernelspec": {
   "display_name": "elections-officials",
   "language": "python",
   "name": "elections-officials"
  },
  "language_info": {
   "codemirror_mode": {
    "name": "ipython",
    "version": 3
   },
   "file_extension": ".py",
   "mimetype": "text/x-python",
   "name": "python",
   "nbconvert_exporter": "python",
   "pygments_lexer": "ipython3",
   "version": "3.7.3"
  }
 },
 "nbformat": 4,
 "nbformat_minor": 4
}
